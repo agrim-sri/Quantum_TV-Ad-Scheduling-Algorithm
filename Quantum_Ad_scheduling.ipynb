{
 "cells": [
  {
   "cell_type": "code",
   "execution_count": 70,
   "id": "8b808bd6-7e8c-4009-b421-87f9d49c1298",
   "metadata": {},
   "outputs": [
    {
     "name": "stdout",
     "output_type": "stream",
     "text": [
      "Advertisement 0 is scheduled in slot 2\n",
      "Advertisement 1 is scheduled in slot 1\n",
      "Advertisement 2 is scheduled in slot 0\n",
      "[0.0, 0.0, 1.0, 0.0, 1.0, 0.0, 1.0, 0.0, 0.0]\n"
     ]
    }
   ],
   "source": [
    "\n",
    "from pulp import LpVariable, LpMinimize, LpProblem, LpBinary\n",
    "\n",
    "# Sample Data\n",
    "M = 3 \n",
    "N = 3  \n",
    "S = [[0, 1, 0], [1, 0, 1], [0, 1, 0]]  # Similarity matrix\n",
    "\n",
    "prob = LpProblem(\"AdScheduling\", LpMinimize)\n",
    "\n",
    "# Define Decision Variables\n",
    "x = LpVariable.dicts(\"x\", (range(M), range(N)), cat='Binary')\n",
    "y = LpVariable.dicts(\"y\", (range(M), range(M), range(N)), cat='Binary')\n",
    "\n",
    "# Objective Function\n",
    "objective = sum(S[i][k] * y[i][k][j] for i in range(M) for k in range(M) for j in range(N))\n",
    "prob += objective\n",
    "\n",
    "# Constraints:\n",
    "for i in range(M):\n",
    "    for k in range(M):\n",
    "        for j in range(N):\n",
    "            prob += y[i][k][j] <= x[i][j]\n",
    "            prob += y[i][k][j] <= x[k][j]\n",
    "            prob += y[i][k][j] >= x[i][j] + x[k][j] - 1\n",
    "\n",
    "\n",
    "for i in range(M):\n",
    "    prob += sum(x[i][j] for j in range(N)) == 1\n",
    "\n",
    "prob.solve()\n",
    "\n",
    "\n",
    "for i in range(M):\n",
    "    for j in range(N):\n",
    "        if x[i][j].value() == 1:\n",
    "            print(f\"Advertisement {i} is scheduled in slot {j}\")\n",
    "arr = []\n",
    "for i in range(M):\n",
    "    for j in range(N):\n",
    "        #x[i][j].value().int\n",
    "        arr.append(x[i][j].value())\n",
    "        ## x[0][1] = 1\n",
    "print(arr)\n",
    "        \n",
    "            "
   ]
  },
  {
   "cell_type": "code",
   "execution_count": 41,
   "id": "3bad08dd-4cc9-4534-af34-2514e8f5b44e",
   "metadata": {},
   "outputs": [
    {
     "name": "stdout",
     "output_type": "stream",
     "text": [
      "DecodedSolution({x[0][0]:0, x[0][1]:1, x[0][2]:0, x[1][0]:0, x[1][1]:0, x[1][2]:1, x[2][0]:1, x[2][1]:0, x[2][2]:0}, energy=0.000000)\n",
      "Advertisement 0 is scheduled in slot 1\n",
      "Advertisement 1 is scheduled in slot 2\n",
      "Advertisement 2 is scheduled in slot 0\n"
     ]
    }
   ],
   "source": [
    "from pyqubo import Array\n",
    "from neal import SimulatedAnnealingSampler\n",
    "\n",
    "# Sample Data\n",
    "M = 3  # Number of advertisements\n",
    "N = 3  # Number of ad slots in a break\n",
    "S = [[0, 1, 0], [1, 0, 1], [0, 1, 0]] \n",
    "\n",
    "x = Array.create('x', shape=(M, N), vartype=\"BINARY\")\n",
    "\n",
    "# Objective Function:\n",
    "objective = sum(S[i][k] * x[i][j] * x[k][j] for i in range(M) for k in range(M) for j in range(N))\n",
    "\n",
    "constraints = [sum(x[i][j] for j in range(N)) - 1 for i in range(M)]\n",
    "\n",
    "H = objective + sum(constraint**2 for constraint in constraints)\n",
    "\n",
    "model = H.compile()\n",
    "qubo, offset = model.to_qubo()\n",
    "\n",
    "sampler = SimulatedAnnealingSampler()\n",
    "response = sampler.sample_qubo(qubo)\n",
    "solution = response.first.sample\n",
    "\n",
    "decoded_solution = model.decode_sample(solution, vartype=\"BINARY\")\n",
    "\n",
    "print(decoded_solution)\n",
    "\n",
    "for i in range(M):\n",
    "    for j in range(N):\n",
    "        if decoded_solution.array('x', (i, j)) == 1:\n",
    "            print(f\"Advertisement {i} is scheduled in slot {j}\")\n"
   ]
  },
  {
   "cell_type": "code",
   "execution_count": 6,
   "id": "7877702f-f7e8-4ca0-9608-af6192c8f5f9",
   "metadata": {},
   "outputs": [
    {
     "name": "stdout",
     "output_type": "stream",
     "text": [
      "Advertisement 'Gold Winner' scheduled at 06:18:45 is placed in slot 3\n",
      "Advertisement 'Gold Winner' scheduled at 06:07:35 is placed in slot 5\n",
      "Advertisement 'Maruthua Grand Mother' scheduled at 06:19:35 is placed in slot 5\n",
      "Advertisement 'Maruthua Grand Mother' scheduled at 06:08:40 is placed in slot 0\n",
      "Advertisement 'AJMI Puttu Podi21 B' scheduled at 06:19:05 is placed in slot 2\n",
      "Advertisement 'AJMI Puttu Podi21 B' scheduled at 06:08:30 is placed in slot 1\n"
     ]
    }
   ],
   "source": [
    "from pyqubo import Array\n",
    "from neal import SimulatedAnnealingSampler\n",
    "\n",
    "# Sample data\n",
    "ads = [\n",
    "    {\"name\": \"Gold Winner\", \"duration\": 15, \"time\": \"06:18:45\"},\n",
    "    {\"name\": \"Gold Winner\", \"duration\": 15, \"time\": \"06:07:35\"},\n",
    "    {\"name\": \"Maruthua Grand Mother\", \"duration\": 10, \"time\": \"06:19:35\"},\n",
    "    {\"name\": \"Maruthua Grand Mother\", \"duration\": 10, \"time\": \"06:08:40\"},\n",
    "    {\"name\": \"AJMI Puttu Podi21 B\", \"duration\": 10, \"time\": \"06:19:05\"},\n",
    "    {\"name\": \"AJMI Puttu Podi21 B\", \"duration\": 10, \"time\": \"06:08:30\"}\n",
    "]\n",
    "\n",
    "M = len(ads)\n",
    "N = len(set(ad[\"time\"] for ad in ads)\n",
    "       \n",
    "       \n",
    "       )\n",
    "\n",
    "S = [[1 if ads[i][\"name\"] == ads[j][\"name\"] and i != j else 0 for j in range(M)] for i in range(M)]\n",
    "\n",
    "x = Array.create('x', shape=(M, N), vartype=\"BINARY\")\n",
    "\n",
    "# Objective Function:\n",
    "objective = sum(S[i][k] * x[i][j] * x[k][j] for i in range(M) for k in range(M) for j in range(N))\n",
    "\n",
    "constraints = [sum(x[i][j] for j in range(N)) - 1 for i in range(M)]\n",
    "\n",
    "H = objective + sum(constraint**2 for constraint in constraints)\n",
    "\n",
    "model = H.compile()\n",
    "qubo, offset = model.to_qubo()\n",
    "\n",
    "sampler = SimulatedAnnealingSampler()\n",
    "response = sampler.sample_qubo(qubo)\n",
    "solution = response.first.sample\n",
    "\n",
    "decoded_solution = model.decode_sample(solution, vartype=\"BINARY\")\n",
    "\n",
    "for i in range(M):\n",
    "    for j in range(N):\n",
    "        if decoded_solution.array('x', (i, j)) == 1:\n",
    "            print(f\"Advertisement '{ads[i]['name']}' scheduled at {ads[i]['time']} is placed in slot {j}\")\n"
   ]
  },
  {
   "cell_type": "code",
   "execution_count": 7,
   "id": "574c4914-1a0e-4903-97f0-67f9776310d7",
   "metadata": {},
   "outputs": [],
   "source": [
    "# Extracting relevant data from the provided dataset\n",
    "ads = [\n",
    "    {\"product\": \"GOLD WINNER\", \"time\": \"06:18:45\"},\n",
    "    {\"product\": \"GOLD WINNER\", \"time\": \"06:07:35\"},\n",
    "    {\"product\": \"MARUTHUA GRAND MOTHER\", \"time\": \"06:19:35\"},\n",
    "    {\"product\": \"MARUTHUA GRAND MOTHER\", \"time\": \"06:08:40\"},\n",
    "    {\"product\": \"AJMI PUTTU PODI21 B\", \"time\": \"06:19:05\"},\n",
    "    {\"product\": \"AJMI PUTTU PODI21 B\", \"time\": \"06:08:30\"}\n",
    "]\n"
   ]
  },
  {
   "cell_type": "code",
   "execution_count": 9,
   "id": "e131f3fd-d43f-4ed9-80d2-57e5a40f207c",
   "metadata": {},
   "outputs": [
    {
     "name": "stdout",
     "output_type": "stream",
     "text": [
      "Advertisement for product 'GOLD WINNER' scheduled at 06:18:45 is placed in slot 3\n",
      "Advertisement for product 'GOLD WINNER' scheduled at 06:07:35 is placed in slot 5\n",
      "Advertisement for product 'MARUTHUA GRAND MOTHER' scheduled at 06:19:35 is placed in slot 3\n",
      "Advertisement for product 'MARUTHUA GRAND MOTHER' scheduled at 06:08:40 is placed in slot 4\n",
      "Advertisement for product 'AJMI PUTTU PODI21 B' scheduled at 06:19:05 is placed in slot 0\n",
      "Advertisement for product 'AJMI PUTTU PODI21 B' scheduled at 06:08:30 is placed in slot 2\n"
     ]
    }
   ],
   "source": [
    "from pyqubo import Array\n",
    "from neal import SimulatedAnnealingSampler\n",
    "\n",
    "M = len(ads)\n",
    "N = len(set(ad[\"time\"] for ad in ads))\n",
    "\n",
    "S = [[1 if ads[i][\"product\"] == ads[j][\"product\"] and i != j else 0 for j in range(M)] for i in range(M)]\n",
    "\n",
    "x = Array.create('x', shape=(M, N), vartype=\"BINARY\")\n",
    "objective = sum(S[i][k] * x[i][j] * x[k][j] for i in range(M) for k in range(M) for j in range(N))\n",
    "\n",
    "constraints = [sum(x[i][j] for j in range(N)) - 1 for i in range(M)]\n",
    "\n",
    "\n",
    "H = objective + sum(constraint**2 for constraint in constraints)\n",
    "\n",
    "model = H.compile()\n",
    "qubo, offset = model.to_qubo()\n",
    "\n",
    "sampler = SimulatedAnnealingSampler()\n",
    "response = sampler.sample_qubo(qubo)\n",
    "solution = response.first.sample\n",
    "\n",
    "decoded_solution = model.decode_sample(solution, vartype=\"BINARY\")\n",
    "\n",
    "for i in range(M):\n",
    "    for j in range(N):\n",
    "        if decoded_solution.array('x', (i, j)) == 1:\n",
    "            print(f\"Advertisement for product '{ads[i]['product']}' scheduled at {ads[i]['time']} is placed in slot {j}\")\n"
   ]
  },
  {
   "cell_type": "code",
   "execution_count": 1,
   "id": "b72b9f2e-cff0-4e0e-8cfc-13e88f9dfa0a",
   "metadata": {},
   "outputs": [
    {
     "name": "stdout",
     "output_type": "stream",
     "text": [
      "{('x[1][3]', 'x[1][1]'): 2.0, ('x[1][4]', 'x[1][1]'): 2.0, ('x[1][2]', 'x[0][2]'): 2.0, ('x[1][1]', 'x[1][0]'): 2.0, ('x[0][4]', 'x[0][0]'): 2.0, ('x[2][1]', 'x[2][0]'): 2.0, ('x[2][4]', 'x[2][1]'): 2.0, ('x[0][3]', 'x[0][0]'): 2.0, ('x[2][2]', 'x[2][1]'): 2.0, ('x[2][4]', 'x[1][4]'): 2.0, ('x[2][3]', 'x[2][2]'): 2.0, ('x[2][0]', 'x[1][0]'): 2.0, ('x[2][3]', 'x[2][3]'): -1.0, ('x[1][4]', 'x[0][4]'): 2.0, ('x[0][2]', 'x[0][1]'): 2.0, ('x[1][1]', 'x[1][1]'): -1.0, ('x[0][3]', 'x[0][1]'): 2.0, ('x[2][4]', 'x[2][0]'): 2.0, ('x[2][3]', 'x[2][0]'): 2.0, ('x[0][1]', 'x[0][0]'): 2.0, ('x[1][3]', 'x[1][0]'): 2.0, ('x[0][2]', 'x[0][2]'): -1.0, ('x[2][1]', 'x[1][1]'): 2.0, ('x[1][0]', 'x[1][0]'): -1.0, ('x[2][4]', 'x[2][3]'): 2.0, ('x[2][2]', 'x[2][0]'): 2.0, ('x[2][3]', 'x[1][3]'): 2.0, ('x[0][4]', 'x[0][2]'): 2.0, ('x[1][3]', 'x[1][2]'): 2.0, ('x[2][3]', 'x[2][1]'): 2.0, ('x[0][4]', 'x[0][3]'): 2.0, ('x[1][3]', 'x[0][3]'): 2.0, ('x[2][4]', 'x[2][2]'): 2.0, ('x[2][2]', 'x[2][2]'): -1.0, ('x[0][4]', 'x[0][1]'): 2.0, ('x[1][2]', 'x[1][0]'): 2.0, ('x[1][2]', 'x[1][1]'): 2.0, ('x[0][4]', 'x[0][4]'): -1.0, ('x[0][1]', 'x[0][1]'): -1.0, ('x[2][0]', 'x[2][0]'): -1.0, ('x[1][1]', 'x[0][1]'): 2.0, ('x[0][0]', 'x[0][0]'): -1.0, ('x[1][0]', 'x[0][0]'): 2.0, ('x[0][3]', 'x[0][3]'): -1.0, ('x[1][2]', 'x[1][2]'): -1.0, ('x[2][2]', 'x[1][2]'): 2.0, ('x[1][3]', 'x[1][3]'): -1.0, ('x[0][2]', 'x[0][0]'): 2.0, ('x[1][4]', 'x[1][4]'): -1.0, ('x[2][4]', 'x[2][4]'): -1.0, ('x[0][3]', 'x[0][2]'): 2.0, ('x[1][4]', 'x[1][0]'): 2.0, ('x[1][4]', 'x[1][3]'): 2.0, ('x[1][4]', 'x[1][2]'): 2.0, ('x[2][1]', 'x[2][1]'): -1.0}\n",
      "Advertisement 0 is scheduled in slot 4\n",
      "Advertisement 1 is scheduled in slot 2\n",
      "Advertisement 2 is scheduled in slot 3\n",
      "DecodedSolution({x[0][0]:0, x[0][1]:0, x[0][2]:0, x[0][3]:0, x[0][4]:1, x[1][0]:0, x[2][4]:0, x[1][1]:0, x[1][2]:1, x[1][3]:0, x[2][1]:0, x[1][4]:0, x[2][0]:0, x[2][2]:0, x[2][3]:1}, energy=0.000000)\n",
      "{'x[0][0]': 0, 'x[0][1]': 0, 'x[0][2]': 0, 'x[0][3]': 0, 'x[0][4]': 1, 'x[1][0]': 0, 'x[1][1]': 0, 'x[1][2]': 1, 'x[1][3]': 0, 'x[1][4]': 0, 'x[2][0]': 0, 'x[2][1]': 0, 'x[2][2]': 0, 'x[2][3]': 1, 'x[2][4]': 0}\n"
     ]
    }
   ],
   "source": [
    "from pyqubo import Array\n",
    "from neal import SimulatedAnnealingSampler\n",
    "\n",
    "# Sample Data\n",
    "M = 3  # Number of advertisements\n",
    "N = 5  # Number of ad slots in a break\n",
    "S = [[0, 1, 0], [1, 0, 1], [0, 1, 0]]\n",
    "\n",
    "x = Array.create('x', shape=(M, N), vartype=\"BINARY\")\n",
    "\n",
    "# Objective Function:\n",
    "objective = sum(S[i][k] * x[i][j] * x[k][j] for i in range(M) for k in range(M) for j in range(N))\n",
    "\n",
    "constraints = [sum(x[i][j] for j in range(N)) - 1 for i in range(M)]\n",
    "\n",
    "H = objective + sum(constraint**2 for constraint in constraints)\n",
    "\n",
    "model = H.compile()\n",
    "qubo, offset = model.to_qubo()\n",
    "print(qubo)\n",
    "\n",
    "sampler = SimulatedAnnealingSampler()\n",
    "response = sampler.sample_qubo(qubo)\n",
    "solution = response.first.sample\n",
    "\n",
    "decoded_solution = model.decode_sample(solution, vartype=\"BINARY\")\n",
    "\n",
    "for i in range(M):\n",
    "    for j in range(N):\n",
    "        if decoded_solution.array('x', (i, j)) == 1:\n",
    "            print(f\"Advertisement {i} is scheduled in slot {j}\")\n",
    "\n",
    "print (decoded_solution)\n",
    "print (solution)"
   ]
  },
  {
   "cell_type": "code",
   "execution_count": 24,
   "id": "d773b77c-931d-4e78-b152-fae76f754573",
   "metadata": {},
   "outputs": [],
   "source": [
    "import numpy as np\n",
    "import copy\n",
    "import qiskit_algorithms\n",
    "\n",
    "# Problem modelling imports\n",
    "from docplex.mp.model import Model\n",
    "\n",
    "import qiskit_algorithms\n",
    "\n",
    "# Qiskit imports\n",
    "from qiskit.algorithms.minimum_eigensolvers import QAOA, NumPyMinimumEigensolver\n",
    "from qiskit.algorithms.optimizers import COBYLA\n",
    "from qiskit.primitives import Sampler\n",
    "from qiskit.utils.algorithm_globals import algorithm_globals\n",
    "from qiskit_optimization.algorithms import MinimumEigenOptimizer, CplexOptimizer\n",
    "from qiskit_optimization import QuadraticProgram\n",
    "from qiskit_optimization.problems.variable import VarType\n",
    "from qiskit_optimization.converters.quadratic_program_to_qubo import QuadraticProgramToQubo\n",
    "from qiskit_optimization.translators import from_docplex_mp\n",
    "from qiskit_optimization import QuadraticProgram\n",
    "from qiskit_optimization.algorithms import CplexOptimizer"
   ]
  },
  {
   "cell_type": "code",
   "execution_count": 53,
   "id": "02e1f28a-e012-4141-8b65-1b574e45c16b",
   "metadata": {},
   "outputs": [],
   "source": [
    "import numpy as np\n",
    "def create_problem(s, M: int = 3, N: int = 5) -> QuadraticProgram:\n",
    "    \"\"\"Solve the quadratic program using docplex.\"\"\"\n",
    "\n",
    "    mdl = Model()\n",
    "    x = [[mdl.binary_var(f\"x{i}_{j}\") for j in range(len(s))] for i in range(len(s))]\n",
    "\n",
    "    # Define the objective and constraints\n",
    "    objective = mdl.sum(s[i][k] * x[i][j] * x[k][j] for i in range(len(s)) for k in range(len(s)) for j in range(len(s)))\n",
    "    constraints = [mdl.sum(x[i][j] for j in range(len(s))) == 1 for i in range(len(s))]\n",
    "\n",
    "    # Add objective and constraints to the model\n",
    "    mdl.minimize(objective)\n",
    "    mdl.add_constraints(constraints)\n",
    "\n",
    "    qp = from_docplex_mp(mdl)\n",
    "    return qp\n",
    "\n",
    "\n",
    "def relax_problem(problem) -> QuadraticProgram:\n",
    "    \"\"\"Change all variables to continuous.\"\"\"\n",
    "    relaxed_problem = copy.deepcopy(problem)\n",
    "    for variable in relaxed_problem.variables:\n",
    "        variable.vartype = VarType.CONTINUOUS\n",
    "\n",
    "    return relaxed_problem\n",
    "\n",
    "# def relax_problem(problem) -> QuadraticProgram:\n",
    "#     \"\"\"Relax binary constraints while keeping the quadratic objective.\"\"\"\n",
    "#     relaxed_problem = copy.deepcopy(problem)\n",
    "\n",
    "#     for variable in relaxed_problem.variables:\n",
    "#         if variable.vartype == VarType.BINARY:\n",
    "#             variable.vartype = VarType.CONTINUOUS\n",
    "\n",
    "#     return relaxed_problem\n"
   ]
  },
  {
   "cell_type": "code",
   "execution_count": 54,
   "id": "e7c84a2f-7186-48d6-b2e3-e31eddb47a63",
   "metadata": {},
   "outputs": [],
   "source": [
    "M = 3  # Number of advertisements\n",
    "N = 3  # Number of ad slots in a break\n",
    "S = [[0, 1, 0], [1, 0, 1], [0, 5, 0]]\n",
    "s = np.array(S)"
   ]
  },
  {
   "cell_type": "code",
   "execution_count": 55,
   "id": "21335092-5906-4d95-b932-13cc0667302a",
   "metadata": {},
   "outputs": [
    {
     "name": "stdout",
     "output_type": "stream",
     "text": [
      "Problem name: docplex_model5\n",
      "\n",
      "Minimize\n",
      "  2*x0_0*x1_0 + 2*x0_1*x1_1 + 2*x0_2*x1_2 + 6*x1_0*x2_0 + 6*x1_1*x2_1\n",
      "  + 6*x1_2*x2_2\n",
      "\n",
      "Subject to\n",
      "  Linear constraints (3)\n",
      "    x0_0 + x0_1 + x0_2 == 1  'c0'\n",
      "    x1_0 + x1_1 + x1_2 == 1  'c1'\n",
      "    x2_0 + x2_1 + x2_2 == 1  'c2'\n",
      "\n",
      "  Binary variables (9)\n",
      "    x0_0 x0_1 x0_2 x1_0 x1_1 x1_2 x2_0 x2_1 x2_2\n",
      "\n"
     ]
    }
   ],
   "source": [
    "qubo = create_problem(s, M, N)\n",
    "print(qubo.prettyprint())"
   ]
  },
  {
   "cell_type": "code",
   "execution_count": 56,
   "id": "7b9307f9-2eeb-4e60-9a06-eb6869ec7466",
   "metadata": {},
   "outputs": [
    {
     "name": "stdout",
     "output_type": "stream",
     "text": [
      "objective function value: 0.0\n",
      "variable values: x0_0=0.0, x0_1=1.0, x0_2=0.0, x1_0=0.0, x1_1=0.0, x1_2=1.0, x2_0=0.0, x2_1=1.0, x2_2=0.0\n",
      "status: SUCCESS\n"
     ]
    }
   ],
   "source": [
    "result = CplexOptimizer().solve(qubo)\n",
    "print(result.prettyprint())"
   ]
  },
  {
   "cell_type": "code",
   "execution_count": 57,
   "id": "86e44a68-a322-4877-8a05-d45ccdd4c946",
   "metadata": {},
   "outputs": [
    {
     "name": "stdout",
     "output_type": "stream",
     "text": [
      "[0, 1, 0, 0, 0, 0, 0, 0, 1, 0, 0, 0, 0, 0, 1]\n"
     ]
    }
   ],
   "source": [
    "print(arr)"
   ]
  },
  {
   "cell_type": "code",
   "execution_count": 58,
   "id": "d35f2168-2533-4a00-979c-09ac9bcf381d",
   "metadata": {},
   "outputs": [
    {
     "name": "stdout",
     "output_type": "stream",
     "text": [
      "Problem name: docplex_model5\n",
      "\n",
      "Minimize\n",
      "  25*x0_0^2 + 50*x0_0*x0_1 + 50*x0_0*x0_2 + 2*x0_0*x1_0 + 25*x0_1^2\n",
      "  + 50*x0_1*x0_2 + 2*x0_1*x1_1 + 25*x0_2^2 + 2*x0_2*x1_2 + 25*x1_0^2\n",
      "  + 50*x1_0*x1_1 + 50*x1_0*x1_2 + 6*x1_0*x2_0 + 25*x1_1^2 + 50*x1_1*x1_2\n",
      "  + 6*x1_1*x2_1 + 25*x1_2^2 + 6*x1_2*x2_2 + 25*x2_0^2 + 50*x2_0*x2_1\n",
      "  + 50*x2_0*x2_2 + 25*x2_1^2 + 50*x2_1*x2_2 + 25*x2_2^2 - 50*x0_0 - 50*x0_1\n",
      "  - 50*x0_2 - 50*x1_0 - 50*x1_1 - 50*x1_2 - 50*x2_0 - 50*x2_1 - 50*x2_2 + 75\n",
      "\n",
      "Subject to\n",
      "  No constraints\n",
      "\n",
      "  Continuous variables (9)\n",
      "    0 <= x0_0 <= 1\n",
      "    0 <= x0_1 <= 1\n",
      "    0 <= x0_2 <= 1\n",
      "    0 <= x1_0 <= 1\n",
      "    0 <= x1_1 <= 1\n",
      "    0 <= x1_2 <= 1\n",
      "    0 <= x2_0 <= 1\n",
      "    0 <= x2_1 <= 1\n",
      "    0 <= x2_2 <= 1\n",
      "\n"
     ]
    }
   ],
   "source": [
    "qp = relax_problem(QuadraticProgramToQubo().convert(qubo))\n",
    "print(qp.prettyprint())"
   ]
  },
  {
   "cell_type": "code",
   "execution_count": 59,
   "id": "af2194a2-e599-480a-95b8-c9e7ca6bf660",
   "metadata": {
    "scrolled": true
   },
   "outputs": [
    {
     "name": "stdout",
     "output_type": "stream",
     "text": [
      "objective function value: 0.0\n",
      "variable values: x0_0=0.0, x0_1=1.0, x0_2=0.0, x1_0=0.0, x1_1=0.0, x1_2=1.0, x2_0=0.0, x2_1=1.0, x2_2=0.0\n",
      "status: SUCCESS\n"
     ]
    }
   ],
   "source": [
    "sol = CplexOptimizer().solve(qubo)\n",
    "print(sol.prettyprint())"
   ]
  },
  {
   "cell_type": "code",
   "execution_count": 60,
   "id": "2630392a-2719-45bb-bfdb-7f686dfe9f7b",
   "metadata": {},
   "outputs": [
    {
     "name": "stdout",
     "output_type": "stream",
     "text": [
      "[0, 1.0, 0, 0, 0, 1.0, 0, 1.0, 0]\n"
     ]
    }
   ],
   "source": [
    "c_stars = sol.samples[0].x\n",
    "print(c_stars)"
   ]
  },
  {
   "cell_type": "code",
   "execution_count": 61,
   "id": "15911114-ad8d-47e9-8b3e-c9d6d0b85a85",
   "metadata": {},
   "outputs": [],
   "source": [
    "qiskit_algorithms.utils.random_seed = 12345\n",
    "qaoa_mes = QAOA(sampler=Sampler(), optimizer=COBYLA(), initial_point=[0.0, 1.0])\n",
    "exact_mes = NumPyMinimumEigensolver()"
   ]
  },
  {
   "cell_type": "code",
   "execution_count": 62,
   "id": "3f7a9008-2eb1-4e77-bee9-1281f3850341",
   "metadata": {},
   "outputs": [],
   "source": [
    "qaoa = MinimumEigenOptimizer(qaoa_mes)"
   ]
  },
  {
   "cell_type": "code",
   "execution_count": 71,
   "id": "55a1cb05-9e2e-4bba-826e-24b749a6056d",
   "metadata": {},
   "outputs": [
    {
     "name": "stdout",
     "output_type": "stream",
     "text": [
      "0.0\n"
     ]
    }
   ],
   "source": [
    "var = qp.objective.evaluate(arr)\n",
    "print(var)"
   ]
  },
  {
   "cell_type": "code",
   "execution_count": 63,
   "id": "97eb75fa-1cc6-4609-9e99-285c5c5e9b2f",
   "metadata": {},
   "outputs": [
    {
     "name": "stdout",
     "output_type": "stream",
     "text": [
      "objective function value: 0.0\n",
      "variable values: x0_0=1.0, x0_1=0.0, x0_2=0.0, x1_0=0.0, x1_1=1.0, x1_2=0.0, x2_0=1.0, x2_1=0.0, x2_2=0.0\n",
      "status: SUCCESS\n"
     ]
    }
   ],
   "source": [
    "qaoa_result = qaoa.solve(qubo)\n",
    "print(qaoa_result.prettyprint())"
   ]
  },
  {
   "cell_type": "code",
   "execution_count": 52,
   "id": "3dbe8413-f468-43f2-9285-591c7546ded2",
   "metadata": {},
   "outputs": [
    {
     "ename": "CircuitError",
     "evalue": "'Index 0 out of range for size 0.'",
     "output_type": "error",
     "traceback": [
      "\u001b[1;31m---------------------------------------------------------------------------\u001b[0m",
      "\u001b[1;31mIndexError\u001b[0m                                Traceback (most recent call last)",
      "File \u001b[1;32mC:\\Program Files\\Python311\\Lib\\site-packages\\qiskit\\circuit\\quantumcircuit.py:5624\u001b[0m, in \u001b[0;36m_bit_argument_conversion\u001b[1;34m(specifier, bit_sequence, bit_set, type_)\u001b[0m\n\u001b[0;32m   5623\u001b[0m \u001b[38;5;28;01mtry\u001b[39;00m:\n\u001b[1;32m-> 5624\u001b[0m     \u001b[38;5;28;01mreturn\u001b[39;00m [\u001b[43mbit_sequence\u001b[49m\u001b[43m[\u001b[49m\u001b[43mspecifier\u001b[49m\u001b[43m]\u001b[49m]\n\u001b[0;32m   5625\u001b[0m \u001b[38;5;28;01mexcept\u001b[39;00m \u001b[38;5;167;01mIndexError\u001b[39;00m \u001b[38;5;28;01mas\u001b[39;00m ex:\n",
      "\u001b[1;31mIndexError\u001b[0m: list index out of range",
      "\nThe above exception was the direct cause of the following exception:\n",
      "\u001b[1;31mCircuitError\u001b[0m                              Traceback (most recent call last)",
      "Cell \u001b[1;32mIn[52], line 7\u001b[0m\n\u001b[0;32m      5\u001b[0m init_qc \u001b[38;5;241m=\u001b[39m QuantumCircuit()\n\u001b[0;32m      6\u001b[0m \u001b[38;5;28;01mfor\u001b[39;00m idx, theta \u001b[38;5;129;01min\u001b[39;00m \u001b[38;5;28menumerate\u001b[39m(thetas):\n\u001b[1;32m----> 7\u001b[0m     \u001b[43minit_qc\u001b[49m\u001b[38;5;241;43m.\u001b[39;49m\u001b[43mry\u001b[49m\u001b[43m(\u001b[49m\u001b[43mtheta\u001b[49m\u001b[43m,\u001b[49m\u001b[43m \u001b[49m\u001b[43midx\u001b[49m\u001b[43m)\u001b[49m\n\u001b[0;32m      9\u001b[0m init_qc\u001b[38;5;241m.\u001b[39mdraw(output\u001b[38;5;241m=\u001b[39m\u001b[38;5;124m\"\u001b[39m\u001b[38;5;124mmpl\u001b[39m\u001b[38;5;124m\"\u001b[39m, style \u001b[38;5;241m=\u001b[39m \u001b[38;5;124m\"\u001b[39m\u001b[38;5;124miqp\u001b[39m\u001b[38;5;124m\"\u001b[39m)\n",
      "File \u001b[1;32mC:\\Program Files\\Python311\\Lib\\site-packages\\qiskit\\circuit\\quantumcircuit.py:3261\u001b[0m, in \u001b[0;36mQuantumCircuit.ry\u001b[1;34m(self, theta, qubit, label)\u001b[0m\n\u001b[0;32m   3247\u001b[0m \u001b[38;5;250m\u001b[39m\u001b[38;5;124;03m\"\"\"Apply :class:`~qiskit.circuit.library.RYGate`.\u001b[39;00m\n\u001b[0;32m   3248\u001b[0m \n\u001b[0;32m   3249\u001b[0m \u001b[38;5;124;03mFor the full matrix form of this gate, see the underlying gate documentation.\u001b[39;00m\n\u001b[1;32m   (...)\u001b[0m\n\u001b[0;32m   3257\u001b[0m \u001b[38;5;124;03m    A handle to the instructions created.\u001b[39;00m\n\u001b[0;32m   3258\u001b[0m \u001b[38;5;124;03m\"\"\"\u001b[39;00m\n\u001b[0;32m   3259\u001b[0m \u001b[38;5;28;01mfrom\u001b[39;00m \u001b[38;5;21;01m.\u001b[39;00m\u001b[38;5;21;01mlibrary\u001b[39;00m\u001b[38;5;21;01m.\u001b[39;00m\u001b[38;5;21;01mstandard_gates\u001b[39;00m\u001b[38;5;21;01m.\u001b[39;00m\u001b[38;5;21;01mry\u001b[39;00m \u001b[38;5;28;01mimport\u001b[39;00m RYGate\n\u001b[1;32m-> 3261\u001b[0m \u001b[38;5;28;01mreturn\u001b[39;00m \u001b[38;5;28;43mself\u001b[39;49m\u001b[38;5;241;43m.\u001b[39;49m\u001b[43mappend\u001b[49m\u001b[43m(\u001b[49m\u001b[43mRYGate\u001b[49m\u001b[43m(\u001b[49m\u001b[43mtheta\u001b[49m\u001b[43m,\u001b[49m\u001b[43m \u001b[49m\u001b[43mlabel\u001b[49m\u001b[38;5;241;43m=\u001b[39;49m\u001b[43mlabel\u001b[49m\u001b[43m)\u001b[49m\u001b[43m,\u001b[49m\u001b[43m \u001b[49m\u001b[43m[\u001b[49m\u001b[43mqubit\u001b[49m\u001b[43m]\u001b[49m\u001b[43m,\u001b[49m\u001b[43m \u001b[49m\u001b[43m[\u001b[49m\u001b[43m]\u001b[49m\u001b[43m)\u001b[49m\n",
      "File \u001b[1;32mC:\\Program Files\\Python311\\Lib\\site-packages\\qiskit\\circuit\\quantumcircuit.py:1273\u001b[0m, in \u001b[0;36mQuantumCircuit.append\u001b[1;34m(self, instruction, qargs, cargs)\u001b[0m\n\u001b[0;32m   1270\u001b[0m     \u001b[38;5;28;01mif\u001b[39;00m is_parameter:\n\u001b[0;32m   1271\u001b[0m         operation \u001b[38;5;241m=\u001b[39m copy\u001b[38;5;241m.\u001b[39mdeepcopy(operation)\n\u001b[1;32m-> 1273\u001b[0m expanded_qargs \u001b[38;5;241m=\u001b[39m \u001b[43m[\u001b[49m\u001b[38;5;28;43mself\u001b[39;49m\u001b[38;5;241;43m.\u001b[39;49m\u001b[43mqbit_argument_conversion\u001b[49m\u001b[43m(\u001b[49m\u001b[43mqarg\u001b[49m\u001b[43m)\u001b[49m\u001b[43m \u001b[49m\u001b[38;5;28;43;01mfor\u001b[39;49;00m\u001b[43m \u001b[49m\u001b[43mqarg\u001b[49m\u001b[43m \u001b[49m\u001b[38;5;129;43;01min\u001b[39;49;00m\u001b[43m \u001b[49m\u001b[43mqargs\u001b[49m\u001b[43m \u001b[49m\u001b[38;5;129;43;01mor\u001b[39;49;00m\u001b[43m \u001b[49m\u001b[43m[\u001b[49m\u001b[43m]\u001b[49m\u001b[43m]\u001b[49m\n\u001b[0;32m   1274\u001b[0m expanded_cargs \u001b[38;5;241m=\u001b[39m [\u001b[38;5;28mself\u001b[39m\u001b[38;5;241m.\u001b[39mcbit_argument_conversion(carg) \u001b[38;5;28;01mfor\u001b[39;00m carg \u001b[38;5;129;01min\u001b[39;00m cargs \u001b[38;5;129;01mor\u001b[39;00m []]\n\u001b[0;32m   1276\u001b[0m \u001b[38;5;28;01mif\u001b[39;00m \u001b[38;5;28mself\u001b[39m\u001b[38;5;241m.\u001b[39m_control_flow_scopes:\n",
      "File \u001b[1;32mC:\\Program Files\\Python311\\Lib\\site-packages\\qiskit\\circuit\\quantumcircuit.py:1273\u001b[0m, in \u001b[0;36m<listcomp>\u001b[1;34m(.0)\u001b[0m\n\u001b[0;32m   1270\u001b[0m     \u001b[38;5;28;01mif\u001b[39;00m is_parameter:\n\u001b[0;32m   1271\u001b[0m         operation \u001b[38;5;241m=\u001b[39m copy\u001b[38;5;241m.\u001b[39mdeepcopy(operation)\n\u001b[1;32m-> 1273\u001b[0m expanded_qargs \u001b[38;5;241m=\u001b[39m [\u001b[38;5;28;43mself\u001b[39;49m\u001b[38;5;241;43m.\u001b[39;49m\u001b[43mqbit_argument_conversion\u001b[49m\u001b[43m(\u001b[49m\u001b[43mqarg\u001b[49m\u001b[43m)\u001b[49m \u001b[38;5;28;01mfor\u001b[39;00m qarg \u001b[38;5;129;01min\u001b[39;00m qargs \u001b[38;5;129;01mor\u001b[39;00m []]\n\u001b[0;32m   1274\u001b[0m expanded_cargs \u001b[38;5;241m=\u001b[39m [\u001b[38;5;28mself\u001b[39m\u001b[38;5;241m.\u001b[39mcbit_argument_conversion(carg) \u001b[38;5;28;01mfor\u001b[39;00m carg \u001b[38;5;129;01min\u001b[39;00m cargs \u001b[38;5;129;01mor\u001b[39;00m []]\n\u001b[0;32m   1276\u001b[0m \u001b[38;5;28;01mif\u001b[39;00m \u001b[38;5;28mself\u001b[39m\u001b[38;5;241m.\u001b[39m_control_flow_scopes:\n",
      "File \u001b[1;32mC:\\Program Files\\Python311\\Lib\\site-packages\\qiskit\\circuit\\quantumcircuit.py:1144\u001b[0m, in \u001b[0;36mQuantumCircuit.qbit_argument_conversion\u001b[1;34m(self, qubit_representation)\u001b[0m\n\u001b[0;32m   1133\u001b[0m \u001b[38;5;28;01mdef\u001b[39;00m \u001b[38;5;21mqbit_argument_conversion\u001b[39m(\u001b[38;5;28mself\u001b[39m, qubit_representation: QubitSpecifier) \u001b[38;5;241m-\u001b[39m\u001b[38;5;241m>\u001b[39m \u001b[38;5;28mlist\u001b[39m[Qubit]:\n\u001b[0;32m   1134\u001b[0m \u001b[38;5;250m    \u001b[39m\u001b[38;5;124;03m\"\"\"\u001b[39;00m\n\u001b[0;32m   1135\u001b[0m \u001b[38;5;124;03m    Converts several qubit representations (such as indexes, range, etc.)\u001b[39;00m\n\u001b[0;32m   1136\u001b[0m \u001b[38;5;124;03m    into a list of qubits.\u001b[39;00m\n\u001b[1;32m   (...)\u001b[0m\n\u001b[0;32m   1142\u001b[0m \u001b[38;5;124;03m        List(Qubit): the resolved instances of the qubits.\u001b[39;00m\n\u001b[0;32m   1143\u001b[0m \u001b[38;5;124;03m    \"\"\"\u001b[39;00m\n\u001b[1;32m-> 1144\u001b[0m     \u001b[38;5;28;01mreturn\u001b[39;00m \u001b[43m_bit_argument_conversion\u001b[49m\u001b[43m(\u001b[49m\n\u001b[0;32m   1145\u001b[0m \u001b[43m        \u001b[49m\u001b[43mqubit_representation\u001b[49m\u001b[43m,\u001b[49m\u001b[43m \u001b[49m\u001b[38;5;28;43mself\u001b[39;49m\u001b[38;5;241;43m.\u001b[39;49m\u001b[43mqubits\u001b[49m\u001b[43m,\u001b[49m\u001b[43m \u001b[49m\u001b[38;5;28;43mself\u001b[39;49m\u001b[38;5;241;43m.\u001b[39;49m\u001b[43m_qubit_indices\u001b[49m\u001b[43m,\u001b[49m\u001b[43m \u001b[49m\u001b[43mQubit\u001b[49m\n\u001b[0;32m   1146\u001b[0m \u001b[43m    \u001b[49m\u001b[43m)\u001b[49m\n",
      "File \u001b[1;32mC:\\Program Files\\Python311\\Lib\\site-packages\\qiskit\\circuit\\quantumcircuit.py:5626\u001b[0m, in \u001b[0;36m_bit_argument_conversion\u001b[1;34m(specifier, bit_sequence, bit_set, type_)\u001b[0m\n\u001b[0;32m   5624\u001b[0m         \u001b[38;5;28;01mreturn\u001b[39;00m [bit_sequence[specifier]]\n\u001b[0;32m   5625\u001b[0m     \u001b[38;5;28;01mexcept\u001b[39;00m \u001b[38;5;167;01mIndexError\u001b[39;00m \u001b[38;5;28;01mas\u001b[39;00m ex:\n\u001b[1;32m-> 5626\u001b[0m         \u001b[38;5;28;01mraise\u001b[39;00m CircuitError(\n\u001b[0;32m   5627\u001b[0m             \u001b[38;5;124mf\u001b[39m\u001b[38;5;124m\"\u001b[39m\u001b[38;5;124mIndex \u001b[39m\u001b[38;5;132;01m{\u001b[39;00mspecifier\u001b[38;5;132;01m}\u001b[39;00m\u001b[38;5;124m out of range for size \u001b[39m\u001b[38;5;132;01m{\u001b[39;00m\u001b[38;5;28mlen\u001b[39m(bit_sequence)\u001b[38;5;132;01m}\u001b[39;00m\u001b[38;5;124m.\u001b[39m\u001b[38;5;124m\"\u001b[39m\n\u001b[0;32m   5628\u001b[0m         ) \u001b[38;5;28;01mfrom\u001b[39;00m \u001b[38;5;21;01mex\u001b[39;00m\n\u001b[0;32m   5629\u001b[0m \u001b[38;5;66;03m# Slices can't raise IndexError - they just return an empty list.\u001b[39;00m\n\u001b[0;32m   5630\u001b[0m \u001b[38;5;28;01mif\u001b[39;00m \u001b[38;5;28misinstance\u001b[39m(specifier, \u001b[38;5;28mslice\u001b[39m):\n",
      "\u001b[1;31mCircuitError\u001b[0m: 'Index 0 out of range for size 0.'"
     ]
    }
   ],
   "source": [
    "from qiskit import QuantumCircuit\n",
    "\n",
    "thetas = [2 * np.arcsin(np.sqrt(c_star)) for c_star in c_stars]\n",
    "\n",
    "init_qc = QuantumCircuit()\n",
    "for idx, theta in enumerate(thetas):\n",
    "    init_qc.ry(theta, idx)\n",
    "\n",
    "init_qc.draw(output=\"mpl\", style = \"iqp\")"
   ]
  },
  {
   "cell_type": "code",
   "execution_count": 20,
   "id": "3d316e68-46e6-483b-beef-62ca58fcbd1a",
   "metadata": {},
   "outputs": [
    {
     "name": "stdout",
     "output_type": "stream",
     "text": [
      "Problem name: docplex_model1\n",
      "\n",
      "Minimize\n",
      "  13*x0_0^2 + 26*x0_0*x0_1 + 26*x0_0*x0_2 + 2*x0_0*x1_0 + 13*x0_1^2\n",
      "  + 26*x0_1*x0_2 + 2*x0_1*x1_1 + 13*x0_2^2 + 2*x0_2*x1_2 + 13*x1_0^2\n",
      "  + 26*x1_0*x1_1 + 26*x1_0*x1_2 + 2*x1_0*x2_0 + 13*x1_1^2 + 26*x1_1*x1_2\n",
      "  + 2*x1_1*x2_1 + 13*x1_2^2 + 2*x1_2*x2_2 + 13*x2_0^2 + 26*x2_0*x2_1\n",
      "  + 26*x2_0*x2_2 + 13*x2_1^2 + 26*x2_1*x2_2 + 13*x2_2^2 - 26*x0_0 - 26*x0_1\n",
      "  - 26*x0_2 - 26*x1_0 - 26*x1_1 - 26*x1_2 - 26*x2_0 - 26*x2_1 - 26*x2_2 + 39\n",
      "\n",
      "Subject to\n",
      "  No constraints\n",
      "\n",
      "  Binary variables (9)\n",
      "    x0_0 x0_1 x0_2 x1_0 x1_1 x1_2 x2_0 x2_1 x2_2\n",
      "\n",
      "offfset is  42.0\n"
     ]
    }
   ],
   "source": [
    "###  this should be used in this case as it does supports the constraints and converts th quadraic program to qubo... \n",
    "\n",
    "from qiskit_optimization.converters import QuadraticProgramToQubo\n",
    "\n",
    "qp2qubo = QuadraticProgramToQubo()\n",
    "qubo = qp2qubo.convert(qubo)\n",
    "print(qubo.prettyprint())\n",
    "op, offset = qubo.to_ising()\n",
    "print(\"offfset is \", offset)\n",
    "#qubit_hamiltonian = op"
   ]
  },
  {
   "cell_type": "code",
   "execution_count": 21,
   "id": "8456baab-0dd2-4e5f-b658-6465c02b0998",
   "metadata": {},
   "outputs": [
    {
     "data": {
      "image/png": "[encoded data removed]",
      "text/plain": [
       "<Figure size 421.722x78.5944 with 1 Axes>"
      ]
     },
     "execution_count": 21,
     "metadata": {},
     "output_type": "execute_result"
    }
   ],
   "source": [
    "from qiskit import QuantumCircuit\n",
    "from qiskit.circuit.library import QAOAAnsatz\n",
    "\n",
    "qubit_hamiltonian = op\n",
    "qaoa_ansatz = QAOAAnsatz(cost_operator=qubit_hamiltonian, reps=1, initial_state=None, mixer_operator=None, name='QAOA')\n",
    "qaoa_ansatz.decompose().decompose().decompose().draw(output='mpl', scale=0.1, fold=-10, style = \"iqp\") #.savefig(\"problem_qaoa_ckt-20qubits.png\")"
   ]
  },
  {
   "cell_type": "code",
   "execution_count": 22,
   "id": "7092ddd5-1484-4e61-8495-55c700f0f58e",
   "metadata": {},
   "outputs": [
    {
     "name": "stdout",
     "output_type": "stream",
     "text": [
      "Original Binary Problem:\n",
      "Problem name: docplex_model2\n",
      "\n",
      "Maximize\n",
      "  -2.15956824*x0^2 - 0.03075656*x0*x1 - 0.44910424*x0*x2 + 0.27371876*x0*x3\n",
      "  + 0.04067172*x0*x4 + 0.0335906*x0*x5 - 0.21845774*x1^2 + 0.12173696*x1*x2\n",
      "  + 0.008018*x1*x3 - 0.02683716*x1*x4 - 0.0591748*x1*x5 - 1.970706*x2^2\n",
      "  - 0.09229252*x2*x3 + 0.2099914*x2*x4 - 0.03616476*x2*x5 - 1.2087634*x3^2\n",
      "  - 0.1496046*x3*x4 + 0.03781288*x3*x5 - 1.59679268*x4^2 - 0.30467804*x4*x5\n",
      "  - 2.16929088*x5^2 + 3.418*x0 + 2.0913*x1 + 6.2415*x2 + 4.4436*x3 + 10.892*x4\n",
      "  + 3.4051*x5\n",
      "\n",
      "Subject to\n",
      "  Linear constraints (1)\n",
      "    x0 + x1 + x2 + x3 + x4 + x5 == 3  'c0'\n",
      "\n",
      "  Binary variables (6)\n",
      "    x0 x1 x2 x3 x4 x5\n",
      "\n",
      "\n",
      "Classical Solution to Binary Problem:\n",
      "objective function value: 16.7689322\n",
      "variable values: x0=0.0, x1=0.0, x2=1.0, x3=1.0, x4=1.0, x5=0.0\n",
      "status: SUCCESS\n",
      "\n",
      "Relaxed Continuous Problem:\n",
      "Problem name: docplex_model2\n",
      "\n",
      "Minimize\n",
      "  44.84880018*x0^2 + 85.40922044*x0*x1 + 85.82756812*x0*x2\n",
      "  + 85.10474511999999*x0*x3 + 85.33779215999999*x0*x4 + 85.34487328*x0*x5\n",
      "  + 42.90768968*x1^2 + 85.25672692*x1*x2 + 85.37044588*x1*x3 + 85.40530104*x1*x4\n",
      "  + 85.43763867999999*x1*x5 + 44.65993794*x2^2 + 85.4707564*x2*x3\n",
      "  + 85.16847247999999*x2*x4 + 85.41462863999999*x2*x5 + 43.89799534*x3^2\n",
      "  + 85.52806848*x3*x4 + 85.34065100000001*x3*x5 + 44.28602462*x4^2\n",
      "  + 85.68314192*x4*x5 + 44.85852282*x5^2 - 259.55339164*x0\n",
      "  - 258.22669163999996*x1 - 262.37689163999994*x2 - 260.57899163999997*x3\n",
      "  - 267.02739163999996*x4 - 259.54049163999997*x5 + 384.20308746\n",
      "\n",
      "Subject to\n",
      "  No constraints\n",
      "\n",
      "  Continuous variables (6)\n",
      "    0 <= x0 <= 1\n",
      "    0 <= x1 <= 1\n",
      "    0 <= x2 <= 1\n",
      "    0 <= x3 <= 1\n",
      "    0 <= x4 <= 1\n",
      "    0 <= x5 <= 1\n",
      "\n",
      "\n",
      "Classical Solution to Relaxed Continuous Problem:\n",
      "objective function value: -17.01205502568274\n",
      "variable values: x0=0.17524995761801201, x1=1.4803888163984595e-07, x2=0.9709053264087679, x3=0.7384168677494151, x4=0.9999999916475085, x5=0.14438904470168346\n",
      "status: SUCCESS\n",
      "\n",
      "QAOA Solution to Binary Problem:\n",
      "objective function value: 16.768932200000002\n",
      "variable values: x0=0.0, x1=0.0, x2=1.0, x3=1.0, x4=1.0, x5=0.0\n",
      "status: SUCCESS\n",
      "\n",
      "Warm-Start QAOA Solution to Binary Problem:\n",
      "objective function value: 16.768932200000002\n",
      "variable values: x0=0.0, x1=0.0, x2=1.0, x3=1.0, x4=1.0, x5=0.0\n",
      "status: SUCCESS\n"
     ]
    }
   ],
   "source": [
    "import numpy as np\n",
    "import copy\n",
    "from docplex.mp.model import Model\n",
    "from qiskit.algorithms.optimizers import COBYLA\n",
    "from qiskit.algorithms.minimum_eigensolvers import QAOA, NumPyMinimumEigensolver\n",
    "from qiskit_optimization.algorithms import MinimumEigenOptimizer, CplexOptimizer\n",
    "from qiskit_optimization import QuadraticProgram\n",
    "from qiskit_optimization.problems.variable import VarType\n",
    "from qiskit_optimization.translators import from_docplex_mp\n",
    "\n",
    "# Define a function to create the quadratic program using DOcplex\n",
    "def create_problem(mu: np.array, sigma: np.array, total: int = 3) -> QuadraticProgram:\n",
    "    mdl = Model()\n",
    "    x = [mdl.binary_var(f\"x{i}\") for i in range(len(sigma))]\n",
    "\n",
    "    objective = mdl.sum([mu[i] * x[i] for i in range(len(mu))])\n",
    "    objective -= 2 * mdl.sum([sigma[i, j] * x[i] * x[j] for i in range(len(mu)) for j in range(len(mu))])\n",
    "    mdl.maximize(objective)\n",
    "    \n",
    "    cost = mdl.sum(x)\n",
    "    mdl.add_constraint(cost == total)\n",
    "\n",
    "    qp = from_docplex_mp(mdl)\n",
    "    return qp\n",
    "\n",
    "# Define a function to relax the problem by changing variables to continuous\n",
    "def relax_problem(problem) -> QuadraticProgram:\n",
    "    relaxed_problem = copy.deepcopy(problem)\n",
    "    for variable in relaxed_problem.variables:\n",
    "        variable.vartype = VarType.CONTINUOUS\n",
    "\n",
    "    return relaxed_problem\n",
    "\n",
    "# Main execution\n",
    "mu = np.array([3.418, 2.0913, 6.2415, 4.4436, 10.892, 3.4051])\n",
    "sigma = np.array([[1.07978412, 0.00768914, 0.11227606, -0.06842969, -0.01016793, -0.00839765],\n",
    "                   [0.00768914, 0.10922887, -0.03043424, -0.0020045, 0.00670929, 0.0147937],\n",
    "                   [0.11227606, -0.03043424, 0.985353, 0.02307313, -0.05249785, 0.00904119],\n",
    "                   [-0.06842969, -0.0020045, 0.02307313, 0.6043817, 0.03740115, -0.00945322],\n",
    "                   [-0.01016793, 0.00670929, -0.05249785, 0.03740115, 0.79839634, 0.07616951],\n",
    "                   [-0.00839765, 0.0147937, 0.00904119, -0.00945322, 0.07616951, 1.08464544]])\n",
    "\n",
    "# Create the original binary problem\n",
    "qubo = create_problem(mu, sigma)\n",
    "print(\"Original Binary Problem:\")\n",
    "print(qubo.prettyprint())\n",
    "\n",
    "# Solve the original binary problem classically\n",
    "result = CplexOptimizer().solve(qubo)\n",
    "print(\"\\nClassical Solution to Binary Problem:\")\n",
    "print(result.prettyprint())\n",
    "\n",
    "# Relax the problem by changing variables to continuous\n",
    "relaxed_qubo = relax_problem(QuadraticProgramToQubo().convert(qubo))\n",
    "print(\"\\nRelaxed Continuous Problem:\")\n",
    "print(relaxed_qubo.prettyprint())\n",
    "\n",
    "# Solve the relaxed continuous problem classically\n",
    "sol = CplexOptimizer().solve(relaxed_qubo)\n",
    "print(\"\\nClassical Solution to Relaxed Continuous Problem:\")\n",
    "print(sol.prettyprint())\n",
    "\n",
    "# Use the solution to the relaxed problem to warm-start QAOA\n",
    "thetas = [2 * np.arcsin(np.sqrt(c_star)) for c_star in sol.samples[0].x]\n",
    "init_qc = QuantumCircuit(len(sigma))\n",
    "for idx, theta in enumerate(thetas):\n",
    "    init_qc.ry(theta, idx)\n",
    "\n",
    "# Apply QAOA to the original binary problem with warm-start\n",
    "qaoa_mes = QAOA(sampler=Sampler(), optimizer=COBYLA(), initial_point=[0.0, 1.0])\n",
    "qaoa = MinimumEigenOptimizer(qaoa_mes)\n",
    "qaoa_result = qaoa.solve(qubo)\n",
    "print(\"\\nQAOA Solution to Binary Problem:\")\n",
    "print(qaoa_result.prettyprint())\n",
    "\n",
    "# Apply Warm-Start QAOA to the original binary problem\n",
    "ws_qaoa_mes = QAOA(sampler=Sampler(), optimizer=COBYLA(), initial_state=init_qc, initial_point=[0.0, 1.0])\n",
    "ws_qaoa = MinimumEigenOptimizer(ws_qaoa_mes)\n",
    "ws_qaoa_result = ws_qaoa.solve(qubo)\n",
    "print(\"\\nWarm-Start QAOA Solution to Binary Problem:\")\n",
    "print(ws_qaoa_result.prettyprint())\n"
   ]
  },
  {
   "cell_type": "code",
   "execution_count": 23,
   "id": "32be4b86-784e-4fc8-9116-1f1adf6641dd",
   "metadata": {},
   "outputs": [
    {
     "ename": "CircuitError",
     "evalue": "'Index 6 out of range for size 6.'",
     "output_type": "error",
     "traceback": [
      "\u001b[1;31m---------------------------------------------------------------------------\u001b[0m",
      "\u001b[1;31mIndexError\u001b[0m                                Traceback (most recent call last)",
      "File \u001b[1;32mC:\\Program Files\\Python311\\Lib\\site-packages\\qiskit\\circuit\\quantumcircuit.py:5624\u001b[0m, in \u001b[0;36m_bit_argument_conversion\u001b[1;34m(specifier, bit_sequence, bit_set, type_)\u001b[0m\n\u001b[0;32m   5623\u001b[0m \u001b[38;5;28;01mtry\u001b[39;00m:\n\u001b[1;32m-> 5624\u001b[0m     \u001b[38;5;28;01mreturn\u001b[39;00m [\u001b[43mbit_sequence\u001b[49m\u001b[43m[\u001b[49m\u001b[43mspecifier\u001b[49m\u001b[43m]\u001b[49m]\n\u001b[0;32m   5625\u001b[0m \u001b[38;5;28;01mexcept\u001b[39;00m \u001b[38;5;167;01mIndexError\u001b[39;00m \u001b[38;5;28;01mas\u001b[39;00m ex:\n",
      "\u001b[1;31mIndexError\u001b[0m: list index out of range",
      "\nThe above exception was the direct cause of the following exception:\n",
      "\u001b[1;31mCircuitError\u001b[0m                              Traceback (most recent call last)",
      "Cell \u001b[1;32mIn[23], line 7\u001b[0m\n\u001b[0;32m      5\u001b[0m init_qc \u001b[38;5;241m=\u001b[39m QuantumCircuit(\u001b[38;5;28mlen\u001b[39m(sigma))\n\u001b[0;32m      6\u001b[0m \u001b[38;5;28;01mfor\u001b[39;00m idx, theta \u001b[38;5;129;01min\u001b[39;00m \u001b[38;5;28menumerate\u001b[39m(thetas):\n\u001b[1;32m----> 7\u001b[0m     \u001b[43minit_qc\u001b[49m\u001b[38;5;241;43m.\u001b[39;49m\u001b[43mry\u001b[49m\u001b[43m(\u001b[49m\u001b[43mtheta\u001b[49m\u001b[43m,\u001b[49m\u001b[43m \u001b[49m\u001b[43midx\u001b[49m\u001b[43m)\u001b[49m\n\u001b[0;32m      9\u001b[0m init_qc\u001b[38;5;241m.\u001b[39mdraw(output\u001b[38;5;241m=\u001b[39m\u001b[38;5;124m\"\u001b[39m\u001b[38;5;124mmpl\u001b[39m\u001b[38;5;124m\"\u001b[39m)\n",
      "File \u001b[1;32mC:\\Program Files\\Python311\\Lib\\site-packages\\qiskit\\circuit\\quantumcircuit.py:3261\u001b[0m, in \u001b[0;36mQuantumCircuit.ry\u001b[1;34m(self, theta, qubit, label)\u001b[0m\n\u001b[0;32m   3247\u001b[0m \u001b[38;5;250m\u001b[39m\u001b[38;5;124;03m\"\"\"Apply :class:`~qiskit.circuit.library.RYGate`.\u001b[39;00m\n\u001b[0;32m   3248\u001b[0m \n\u001b[0;32m   3249\u001b[0m \u001b[38;5;124;03mFor the full matrix form of this gate, see the underlying gate documentation.\u001b[39;00m\n\u001b[1;32m   (...)\u001b[0m\n\u001b[0;32m   3257\u001b[0m \u001b[38;5;124;03m    A handle to the instructions created.\u001b[39;00m\n\u001b[0;32m   3258\u001b[0m \u001b[38;5;124;03m\"\"\"\u001b[39;00m\n\u001b[0;32m   3259\u001b[0m \u001b[38;5;28;01mfrom\u001b[39;00m \u001b[38;5;21;01m.\u001b[39;00m\u001b[38;5;21;01mlibrary\u001b[39;00m\u001b[38;5;21;01m.\u001b[39;00m\u001b[38;5;21;01mstandard_gates\u001b[39;00m\u001b[38;5;21;01m.\u001b[39;00m\u001b[38;5;21;01mry\u001b[39;00m \u001b[38;5;28;01mimport\u001b[39;00m RYGate\n\u001b[1;32m-> 3261\u001b[0m \u001b[38;5;28;01mreturn\u001b[39;00m \u001b[38;5;28;43mself\u001b[39;49m\u001b[38;5;241;43m.\u001b[39;49m\u001b[43mappend\u001b[49m\u001b[43m(\u001b[49m\u001b[43mRYGate\u001b[49m\u001b[43m(\u001b[49m\u001b[43mtheta\u001b[49m\u001b[43m,\u001b[49m\u001b[43m \u001b[49m\u001b[43mlabel\u001b[49m\u001b[38;5;241;43m=\u001b[39;49m\u001b[43mlabel\u001b[49m\u001b[43m)\u001b[49m\u001b[43m,\u001b[49m\u001b[43m \u001b[49m\u001b[43m[\u001b[49m\u001b[43mqubit\u001b[49m\u001b[43m]\u001b[49m\u001b[43m,\u001b[49m\u001b[43m \u001b[49m\u001b[43m[\u001b[49m\u001b[43m]\u001b[49m\u001b[43m)\u001b[49m\n",
      "File \u001b[1;32mC:\\Program Files\\Python311\\Lib\\site-packages\\qiskit\\circuit\\quantumcircuit.py:1273\u001b[0m, in \u001b[0;36mQuantumCircuit.append\u001b[1;34m(self, instruction, qargs, cargs)\u001b[0m\n\u001b[0;32m   1270\u001b[0m     \u001b[38;5;28;01mif\u001b[39;00m is_parameter:\n\u001b[0;32m   1271\u001b[0m         operation \u001b[38;5;241m=\u001b[39m copy\u001b[38;5;241m.\u001b[39mdeepcopy(operation)\n\u001b[1;32m-> 1273\u001b[0m expanded_qargs \u001b[38;5;241m=\u001b[39m \u001b[43m[\u001b[49m\u001b[38;5;28;43mself\u001b[39;49m\u001b[38;5;241;43m.\u001b[39;49m\u001b[43mqbit_argument_conversion\u001b[49m\u001b[43m(\u001b[49m\u001b[43mqarg\u001b[49m\u001b[43m)\u001b[49m\u001b[43m \u001b[49m\u001b[38;5;28;43;01mfor\u001b[39;49;00m\u001b[43m \u001b[49m\u001b[43mqarg\u001b[49m\u001b[43m \u001b[49m\u001b[38;5;129;43;01min\u001b[39;49;00m\u001b[43m \u001b[49m\u001b[43mqargs\u001b[49m\u001b[43m \u001b[49m\u001b[38;5;129;43;01mor\u001b[39;49;00m\u001b[43m \u001b[49m\u001b[43m[\u001b[49m\u001b[43m]\u001b[49m\u001b[43m]\u001b[49m\n\u001b[0;32m   1274\u001b[0m expanded_cargs \u001b[38;5;241m=\u001b[39m [\u001b[38;5;28mself\u001b[39m\u001b[38;5;241m.\u001b[39mcbit_argument_conversion(carg) \u001b[38;5;28;01mfor\u001b[39;00m carg \u001b[38;5;129;01min\u001b[39;00m cargs \u001b[38;5;129;01mor\u001b[39;00m []]\n\u001b[0;32m   1276\u001b[0m \u001b[38;5;28;01mif\u001b[39;00m \u001b[38;5;28mself\u001b[39m\u001b[38;5;241m.\u001b[39m_control_flow_scopes:\n",
      "File \u001b[1;32mC:\\Program Files\\Python311\\Lib\\site-packages\\qiskit\\circuit\\quantumcircuit.py:1273\u001b[0m, in \u001b[0;36m<listcomp>\u001b[1;34m(.0)\u001b[0m\n\u001b[0;32m   1270\u001b[0m     \u001b[38;5;28;01mif\u001b[39;00m is_parameter:\n\u001b[0;32m   1271\u001b[0m         operation \u001b[38;5;241m=\u001b[39m copy\u001b[38;5;241m.\u001b[39mdeepcopy(operation)\n\u001b[1;32m-> 1273\u001b[0m expanded_qargs \u001b[38;5;241m=\u001b[39m [\u001b[38;5;28;43mself\u001b[39;49m\u001b[38;5;241;43m.\u001b[39;49m\u001b[43mqbit_argument_conversion\u001b[49m\u001b[43m(\u001b[49m\u001b[43mqarg\u001b[49m\u001b[43m)\u001b[49m \u001b[38;5;28;01mfor\u001b[39;00m qarg \u001b[38;5;129;01min\u001b[39;00m qargs \u001b[38;5;129;01mor\u001b[39;00m []]\n\u001b[0;32m   1274\u001b[0m expanded_cargs \u001b[38;5;241m=\u001b[39m [\u001b[38;5;28mself\u001b[39m\u001b[38;5;241m.\u001b[39mcbit_argument_conversion(carg) \u001b[38;5;28;01mfor\u001b[39;00m carg \u001b[38;5;129;01min\u001b[39;00m cargs \u001b[38;5;129;01mor\u001b[39;00m []]\n\u001b[0;32m   1276\u001b[0m \u001b[38;5;28;01mif\u001b[39;00m \u001b[38;5;28mself\u001b[39m\u001b[38;5;241m.\u001b[39m_control_flow_scopes:\n",
      "File \u001b[1;32mC:\\Program Files\\Python311\\Lib\\site-packages\\qiskit\\circuit\\quantumcircuit.py:1144\u001b[0m, in \u001b[0;36mQuantumCircuit.qbit_argument_conversion\u001b[1;34m(self, qubit_representation)\u001b[0m\n\u001b[0;32m   1133\u001b[0m \u001b[38;5;28;01mdef\u001b[39;00m \u001b[38;5;21mqbit_argument_conversion\u001b[39m(\u001b[38;5;28mself\u001b[39m, qubit_representation: QubitSpecifier) \u001b[38;5;241m-\u001b[39m\u001b[38;5;241m>\u001b[39m \u001b[38;5;28mlist\u001b[39m[Qubit]:\n\u001b[0;32m   1134\u001b[0m \u001b[38;5;250m    \u001b[39m\u001b[38;5;124;03m\"\"\"\u001b[39;00m\n\u001b[0;32m   1135\u001b[0m \u001b[38;5;124;03m    Converts several qubit representations (such as indexes, range, etc.)\u001b[39;00m\n\u001b[0;32m   1136\u001b[0m \u001b[38;5;124;03m    into a list of qubits.\u001b[39;00m\n\u001b[1;32m   (...)\u001b[0m\n\u001b[0;32m   1142\u001b[0m \u001b[38;5;124;03m        List(Qubit): the resolved instances of the qubits.\u001b[39;00m\n\u001b[0;32m   1143\u001b[0m \u001b[38;5;124;03m    \"\"\"\u001b[39;00m\n\u001b[1;32m-> 1144\u001b[0m     \u001b[38;5;28;01mreturn\u001b[39;00m \u001b[43m_bit_argument_conversion\u001b[49m\u001b[43m(\u001b[49m\n\u001b[0;32m   1145\u001b[0m \u001b[43m        \u001b[49m\u001b[43mqubit_representation\u001b[49m\u001b[43m,\u001b[49m\u001b[43m \u001b[49m\u001b[38;5;28;43mself\u001b[39;49m\u001b[38;5;241;43m.\u001b[39;49m\u001b[43mqubits\u001b[49m\u001b[43m,\u001b[49m\u001b[43m \u001b[49m\u001b[38;5;28;43mself\u001b[39;49m\u001b[38;5;241;43m.\u001b[39;49m\u001b[43m_qubit_indices\u001b[49m\u001b[43m,\u001b[49m\u001b[43m \u001b[49m\u001b[43mQubit\u001b[49m\n\u001b[0;32m   1146\u001b[0m \u001b[43m    \u001b[49m\u001b[43m)\u001b[49m\n",
      "File \u001b[1;32mC:\\Program Files\\Python311\\Lib\\site-packages\\qiskit\\circuit\\quantumcircuit.py:5626\u001b[0m, in \u001b[0;36m_bit_argument_conversion\u001b[1;34m(specifier, bit_sequence, bit_set, type_)\u001b[0m\n\u001b[0;32m   5624\u001b[0m         \u001b[38;5;28;01mreturn\u001b[39;00m [bit_sequence[specifier]]\n\u001b[0;32m   5625\u001b[0m     \u001b[38;5;28;01mexcept\u001b[39;00m \u001b[38;5;167;01mIndexError\u001b[39;00m \u001b[38;5;28;01mas\u001b[39;00m ex:\n\u001b[1;32m-> 5626\u001b[0m         \u001b[38;5;28;01mraise\u001b[39;00m CircuitError(\n\u001b[0;32m   5627\u001b[0m             \u001b[38;5;124mf\u001b[39m\u001b[38;5;124m\"\u001b[39m\u001b[38;5;124mIndex \u001b[39m\u001b[38;5;132;01m{\u001b[39;00mspecifier\u001b[38;5;132;01m}\u001b[39;00m\u001b[38;5;124m out of range for size \u001b[39m\u001b[38;5;132;01m{\u001b[39;00m\u001b[38;5;28mlen\u001b[39m(bit_sequence)\u001b[38;5;132;01m}\u001b[39;00m\u001b[38;5;124m.\u001b[39m\u001b[38;5;124m\"\u001b[39m\n\u001b[0;32m   5628\u001b[0m         ) \u001b[38;5;28;01mfrom\u001b[39;00m \u001b[38;5;21;01mex\u001b[39;00m\n\u001b[0;32m   5629\u001b[0m \u001b[38;5;66;03m# Slices can't raise IndexError - they just return an empty list.\u001b[39;00m\n\u001b[0;32m   5630\u001b[0m \u001b[38;5;28;01mif\u001b[39;00m \u001b[38;5;28misinstance\u001b[39m(specifier, \u001b[38;5;28mslice\u001b[39m):\n",
      "\u001b[1;31mCircuitError\u001b[0m: 'Index 6 out of range for size 6.'"
     ]
    }
   ],
   "source": [
    "from qiskit import QuantumCircuit\n",
    "\n",
    "thetas = [2 * np.arcsin(np.sqrt(c_star)) for c_star in c_stars]\n",
    "\n",
    "init_qc = QuantumCircuit(len(sigma))\n",
    "for idx, theta in enumerate(thetas):\n",
    "    init_qc.ry(theta, idx)\n",
    "\n",
    "init_qc.draw(output=\"mpl\")\n"
   ]
  },
  {
   "cell_type": "code",
   "execution_count": null,
   "id": "a3fa87ab-bd66-4732-ac3f-5ea289f49b98",
   "metadata": {},
   "outputs": [],
   "source": [
    "\n"
   ]
  }
 ],
 "metadata": {
  "kernelspec": {
   "display_name": "Python 3 (ipykernel)",
   "language": "python",
   "name": "python3"
  },
  "language_info": {
   "codemirror_mode": {
    "name": "ipython",
    "version": 3
   },
   "file_extension": ".py",
   "mimetype": "text/x-python",
   "name": "python",
   "nbconvert_exporter": "python",
   "pygments_lexer": "ipython3",
   "version": "3.11.4"
  }
 },
 "nbformat": 4,
 "nbformat_minor": 5
}
